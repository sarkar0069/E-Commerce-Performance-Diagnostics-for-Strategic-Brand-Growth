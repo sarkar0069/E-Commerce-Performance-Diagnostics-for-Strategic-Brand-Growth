{
 "cells": [
  {
   "cell_type": "markdown",
   "id": "3dbc10e2-fad6-4192-a5b4-7e23be2dab5b",
   "metadata": {},
   "source": [
    "## Case Study: E-Commerce Performance Diagnostics for Strategic Brand Growth"
   ]
  },
  {
   "cell_type": "code",
   "execution_count": 1,
   "id": "fdacfc25-51a3-4833-b299-02a292e92f49",
   "metadata": {},
   "outputs": [],
   "source": [
    "import pandas as pd\n",
    "import numpy as np\n",
    "import matplotlib.pyplot as plt\n",
    "import seaborn as sns\n",
    "from scipy.stats import pearsonr, ttest_ind"
   ]
  },
  {
   "cell_type": "code",
   "execution_count": 2,
   "id": "c36d4102-ea8e-4672-ab3b-ae7c5af68f16",
   "metadata": {},
   "outputs": [],
   "source": [
    "sns.set(style=\"whitegrid\")"
   ]
  },
  {
   "cell_type": "code",
   "execution_count": 10,
   "id": "95b080fc-e526-4a13-88a6-8ca66b47fb9a",
   "metadata": {},
   "outputs": [],
   "source": [
    "sd = pd.read_csv(\"Sales_Data.csv\")\n",
    "gv = pd.read_csv(\"Glance_Views.csv\")"
   ]
  },
  {
   "cell_type": "code",
   "execution_count": 11,
   "id": "ec6dfc32-2840-4deb-9656-17148fbecd61",
   "metadata": {},
   "outputs": [
    {
     "data": {
      "text/html": [
       "<div>\n",
       "<style scoped>\n",
       "    .dataframe tbody tr th:only-of-type {\n",
       "        vertical-align: middle;\n",
       "    }\n",
       "\n",
       "    .dataframe tbody tr th {\n",
       "        vertical-align: top;\n",
       "    }\n",
       "\n",
       "    .dataframe thead th {\n",
       "        text-align: right;\n",
       "    }\n",
       "</style>\n",
       "<table border=\"1\" class=\"dataframe\">\n",
       "  <thead>\n",
       "    <tr style=\"text-align: right;\">\n",
       "      <th></th>\n",
       "      <th>Unnamed: 0</th>\n",
       "      <th>SKU_NAME</th>\n",
       "      <th>FEED_DATE</th>\n",
       "      <th>CATEGORY</th>\n",
       "      <th>SUB_CATEGORY</th>\n",
       "      <th>ORDERED_REVENUE</th>\n",
       "      <th>ORDERED_UNITS</th>\n",
       "      <th>REP_OOS</th>\n",
       "    </tr>\n",
       "  </thead>\n",
       "  <tbody>\n",
       "    <tr>\n",
       "      <th>21995</th>\n",
       "      <td>21995</td>\n",
       "      <td>C13N1DORBG</td>\n",
       "      <td>2019-08-15</td>\n",
       "      <td>1000 Inputs</td>\n",
       "      <td>1006 Gamepads and Controllers</td>\n",
       "      <td>449.97</td>\n",
       "      <td>3.0</td>\n",
       "      <td>7.29</td>\n",
       "    </tr>\n",
       "    <tr>\n",
       "      <th>39586</th>\n",
       "      <td>39586</td>\n",
       "      <td>D29OFPIPYD</td>\n",
       "      <td>2019-08-09</td>\n",
       "      <td>5000 Portable Media Players</td>\n",
       "      <td>5010 Other Portable Audio</td>\n",
       "      <td>1499.85</td>\n",
       "      <td>15.0</td>\n",
       "      <td>0.00</td>\n",
       "    </tr>\n",
       "    <tr>\n",
       "      <th>12853</th>\n",
       "      <td>12853</td>\n",
       "      <td>C20VWL6T29</td>\n",
       "      <td>2019-06-08</td>\n",
       "      <td>1500 Tablet Accessories</td>\n",
       "      <td>1590 Other Tablet Accessories</td>\n",
       "      <td>0.00</td>\n",
       "      <td>0.0</td>\n",
       "      <td>0.00</td>\n",
       "    </tr>\n",
       "    <tr>\n",
       "      <th>23884</th>\n",
       "      <td>23884</td>\n",
       "      <td>B07XI2QS2Z</td>\n",
       "      <td>2019-05-04</td>\n",
       "      <td>5000 Portable Media Players</td>\n",
       "      <td>5045 Media Speaker Systems</td>\n",
       "      <td>1128.51</td>\n",
       "      <td>18.0</td>\n",
       "      <td>0.00</td>\n",
       "    </tr>\n",
       "    <tr>\n",
       "      <th>39517</th>\n",
       "      <td>39517</td>\n",
       "      <td>D27PFQ7KYJ</td>\n",
       "      <td>2019-08-22</td>\n",
       "      <td>5000 Portable Media Players</td>\n",
       "      <td>5010 Other Portable Audio</td>\n",
       "      <td>1599.84</td>\n",
       "      <td>16.0</td>\n",
       "      <td>0.00</td>\n",
       "    </tr>\n",
       "  </tbody>\n",
       "</table>\n",
       "</div>"
      ],
      "text/plain": [
       "       Unnamed: 0    SKU_NAME   FEED_DATE                     CATEGORY  \\\n",
       "21995       21995  C13N1DORBG  2019-08-15                  1000 Inputs   \n",
       "39586       39586  D29OFPIPYD  2019-08-09  5000 Portable Media Players   \n",
       "12853       12853  C20VWL6T29  2019-06-08      1500 Tablet Accessories   \n",
       "23884       23884  B07XI2QS2Z  2019-05-04  5000 Portable Media Players   \n",
       "39517       39517  D27PFQ7KYJ  2019-08-22  5000 Portable Media Players   \n",
       "\n",
       "                        SUB_CATEGORY  ORDERED_REVENUE  ORDERED_UNITS  REP_OOS  \n",
       "21995  1006 Gamepads and Controllers           449.97            3.0     7.29  \n",
       "39586      5010 Other Portable Audio          1499.85           15.0     0.00  \n",
       "12853  1590 Other Tablet Accessories             0.00            0.0     0.00  \n",
       "23884     5045 Media Speaker Systems          1128.51           18.0     0.00  \n",
       "39517      5010 Other Portable Audio          1599.84           16.0     0.00  "
      ]
     },
     "execution_count": 11,
     "metadata": {},
     "output_type": "execute_result"
    }
   ],
   "source": [
    "sd.sample(5)"
   ]
  },
  {
   "cell_type": "code",
   "execution_count": 12,
   "id": "68cee5f5-b3cb-4e03-a36d-b19c7c7b697b",
   "metadata": {},
   "outputs": [
    {
     "data": {
      "text/html": [
       "<div>\n",
       "<style scoped>\n",
       "    .dataframe tbody tr th:only-of-type {\n",
       "        vertical-align: middle;\n",
       "    }\n",
       "\n",
       "    .dataframe tbody tr th {\n",
       "        vertical-align: top;\n",
       "    }\n",
       "\n",
       "    .dataframe thead th {\n",
       "        text-align: right;\n",
       "    }\n",
       "</style>\n",
       "<table border=\"1\" class=\"dataframe\">\n",
       "  <thead>\n",
       "    <tr style=\"text-align: right;\">\n",
       "      <th></th>\n",
       "      <th>Unnamed: 0</th>\n",
       "      <th>SKU_NAME</th>\n",
       "      <th>FEED_DATE</th>\n",
       "      <th>VIEWS</th>\n",
       "      <th>UNITS</th>\n",
       "    </tr>\n",
       "  </thead>\n",
       "  <tbody>\n",
       "    <tr>\n",
       "      <th>26717</th>\n",
       "      <td>26717</td>\n",
       "      <td>B2865LLES3</td>\n",
       "      <td>2019-06-18</td>\n",
       "      <td>335.0</td>\n",
       "      <td>7.0</td>\n",
       "    </tr>\n",
       "    <tr>\n",
       "      <th>27263</th>\n",
       "      <td>27263</td>\n",
       "      <td>B185MM49YD</td>\n",
       "      <td>2019-05-06</td>\n",
       "      <td>675.0</td>\n",
       "      <td>17.0</td>\n",
       "    </tr>\n",
       "    <tr>\n",
       "      <th>18475</th>\n",
       "      <td>18475</td>\n",
       "      <td>D01MH59L:1</td>\n",
       "      <td>2019-06-03</td>\n",
       "      <td>1501.0</td>\n",
       "      <td>159.0</td>\n",
       "    </tr>\n",
       "    <tr>\n",
       "      <th>25589</th>\n",
       "      <td>25589</td>\n",
       "      <td>B094DY1H:5</td>\n",
       "      <td>2019-05-28</td>\n",
       "      <td>641.0</td>\n",
       "      <td>13.0</td>\n",
       "    </tr>\n",
       "    <tr>\n",
       "      <th>13644</th>\n",
       "      <td>13644</td>\n",
       "      <td>C225FWSQHK</td>\n",
       "      <td>2019-05-02</td>\n",
       "      <td>2303.0</td>\n",
       "      <td>314.0</td>\n",
       "    </tr>\n",
       "  </tbody>\n",
       "</table>\n",
       "</div>"
      ],
      "text/plain": [
       "       Unnamed: 0    SKU_NAME   FEED_DATE   VIEWS  UNITS\n",
       "26717       26717  B2865LLES3  2019-06-18   335.0    7.0\n",
       "27263       27263  B185MM49YD  2019-05-06   675.0   17.0\n",
       "18475       18475  D01MH59L:1  2019-06-03  1501.0  159.0\n",
       "25589       25589  B094DY1H:5  2019-05-28   641.0   13.0\n",
       "13644       13644  C225FWSQHK  2019-05-02  2303.0  314.0"
      ]
     },
     "execution_count": 12,
     "metadata": {},
     "output_type": "execute_result"
    }
   ],
   "source": [
    "gv.sample(5)"
   ]
  },
  {
   "cell_type": "markdown",
   "id": "6aa7aaa3-7912-46a6-a001-1e588c72fc11",
   "metadata": {},
   "source": [
    "### Data Cleaning and Preprocessing"
   ]
  },
  {
   "cell_type": "code",
   "execution_count": 13,
   "id": "268383b9-8fde-4646-a6f4-a54e892321df",
   "metadata": {},
   "outputs": [],
   "source": [
    "sd = sd.iloc[:, 1:]"
   ]
  },
  {
   "cell_type": "code",
   "execution_count": 14,
   "id": "f41afd4f-a6c8-4075-a54c-813bb512d026",
   "metadata": {},
   "outputs": [
    {
     "data": {
      "text/html": [
       "<div>\n",
       "<style scoped>\n",
       "    .dataframe tbody tr th:only-of-type {\n",
       "        vertical-align: middle;\n",
       "    }\n",
       "\n",
       "    .dataframe tbody tr th {\n",
       "        vertical-align: top;\n",
       "    }\n",
       "\n",
       "    .dataframe thead th {\n",
       "        text-align: right;\n",
       "    }\n",
       "</style>\n",
       "<table border=\"1\" class=\"dataframe\">\n",
       "  <thead>\n",
       "    <tr style=\"text-align: right;\">\n",
       "      <th></th>\n",
       "      <th>SKU_NAME</th>\n",
       "      <th>FEED_DATE</th>\n",
       "      <th>CATEGORY</th>\n",
       "      <th>SUB_CATEGORY</th>\n",
       "      <th>ORDERED_REVENUE</th>\n",
       "      <th>ORDERED_UNITS</th>\n",
       "      <th>REP_OOS</th>\n",
       "    </tr>\n",
       "  </thead>\n",
       "  <tbody>\n",
       "    <tr>\n",
       "      <th>14040</th>\n",
       "      <td>C214:PRAT2</td>\n",
       "      <td>2019-05-01</td>\n",
       "      <td>1000 Inputs</td>\n",
       "      <td>1001 Keyboards</td>\n",
       "      <td>0.00</td>\n",
       "      <td>0.0</td>\n",
       "      <td>0.00</td>\n",
       "    </tr>\n",
       "    <tr>\n",
       "      <th>13760</th>\n",
       "      <td>B121O714Y2</td>\n",
       "      <td>2019-06-10</td>\n",
       "      <td>1000 Inputs</td>\n",
       "      <td>1003 Computer Speakers</td>\n",
       "      <td>0.00</td>\n",
       "      <td>0.0</td>\n",
       "      <td>0.00</td>\n",
       "    </tr>\n",
       "    <tr>\n",
       "      <th>40157</th>\n",
       "      <td>B08NSQRRG[</td>\n",
       "      <td>2019-05-18</td>\n",
       "      <td>1600 Sony PSP Games and Software</td>\n",
       "      <td>1610 Classic Games &amp; RetroArcade</td>\n",
       "      <td>1749.93</td>\n",
       "      <td>7.0</td>\n",
       "      <td>0.00</td>\n",
       "    </tr>\n",
       "    <tr>\n",
       "      <th>25308</th>\n",
       "      <td>C1915F72TB</td>\n",
       "      <td>2019-06-25</td>\n",
       "      <td>1000 Inputs</td>\n",
       "      <td>1002 Mice</td>\n",
       "      <td>1227.82</td>\n",
       "      <td>14.0</td>\n",
       "      <td>9.07</td>\n",
       "    </tr>\n",
       "    <tr>\n",
       "      <th>3873</th>\n",
       "      <td>B2154U7FZF</td>\n",
       "      <td>2019-07-27</td>\n",
       "      <td>1000 Inputs</td>\n",
       "      <td>1002 Mice</td>\n",
       "      <td>6436.89</td>\n",
       "      <td>245.0</td>\n",
       "      <td>7.78</td>\n",
       "    </tr>\n",
       "  </tbody>\n",
       "</table>\n",
       "</div>"
      ],
      "text/plain": [
       "         SKU_NAME   FEED_DATE                          CATEGORY  \\\n",
       "14040  C214:PRAT2  2019-05-01                       1000 Inputs   \n",
       "13760  B121O714Y2  2019-06-10                       1000 Inputs   \n",
       "40157  B08NSQRRG[  2019-05-18  1600 Sony PSP Games and Software   \n",
       "25308  C1915F72TB  2019-06-25                       1000 Inputs   \n",
       "3873   B2154U7FZF  2019-07-27                       1000 Inputs   \n",
       "\n",
       "                           SUB_CATEGORY  ORDERED_REVENUE  ORDERED_UNITS  \\\n",
       "14040                    1001 Keyboards             0.00            0.0   \n",
       "13760            1003 Computer Speakers             0.00            0.0   \n",
       "40157  1610 Classic Games & RetroArcade          1749.93            7.0   \n",
       "25308                         1002 Mice          1227.82           14.0   \n",
       "3873                          1002 Mice          6436.89          245.0   \n",
       "\n",
       "       REP_OOS  \n",
       "14040     0.00  \n",
       "13760     0.00  \n",
       "40157     0.00  \n",
       "25308     9.07  \n",
       "3873      7.78  "
      ]
     },
     "execution_count": 14,
     "metadata": {},
     "output_type": "execute_result"
    }
   ],
   "source": [
    "sd.sample(5)"
   ]
  },
  {
   "cell_type": "code",
   "execution_count": 15,
   "id": "ee25bac2-6724-44a1-bd65-f05b4c237a48",
   "metadata": {},
   "outputs": [],
   "source": [
    "gv = gv.iloc[:, 1:]"
   ]
  },
  {
   "cell_type": "code",
   "execution_count": 16,
   "id": "09707c43-584c-4378-a942-9714c379229a",
   "metadata": {},
   "outputs": [
    {
     "data": {
      "text/html": [
       "<div>\n",
       "<style scoped>\n",
       "    .dataframe tbody tr th:only-of-type {\n",
       "        vertical-align: middle;\n",
       "    }\n",
       "\n",
       "    .dataframe tbody tr th {\n",
       "        vertical-align: top;\n",
       "    }\n",
       "\n",
       "    .dataframe thead th {\n",
       "        text-align: right;\n",
       "    }\n",
       "</style>\n",
       "<table border=\"1\" class=\"dataframe\">\n",
       "  <thead>\n",
       "    <tr style=\"text-align: right;\">\n",
       "      <th></th>\n",
       "      <th>SKU_NAME</th>\n",
       "      <th>FEED_DATE</th>\n",
       "      <th>VIEWS</th>\n",
       "      <th>UNITS</th>\n",
       "    </tr>\n",
       "  </thead>\n",
       "  <tbody>\n",
       "    <tr>\n",
       "      <th>37530</th>\n",
       "      <td>C21PIJY9C2</td>\n",
       "      <td>2019-06-16</td>\n",
       "      <td>267.0</td>\n",
       "      <td>0.0</td>\n",
       "    </tr>\n",
       "    <tr>\n",
       "      <th>8023</th>\n",
       "      <td>D20CSKXW4I</td>\n",
       "      <td>2019-08-20</td>\n",
       "      <td>1019.0</td>\n",
       "      <td>58.0</td>\n",
       "    </tr>\n",
       "    <tr>\n",
       "      <th>30479</th>\n",
       "      <td>B08:;5YP75</td>\n",
       "      <td>2019-07-23</td>\n",
       "      <td>180.0</td>\n",
       "      <td>0.0</td>\n",
       "    </tr>\n",
       "    <tr>\n",
       "      <th>7389</th>\n",
       "      <td>D02DR5SY3I</td>\n",
       "      <td>2019-07-11</td>\n",
       "      <td>142.0</td>\n",
       "      <td>0.0</td>\n",
       "    </tr>\n",
       "    <tr>\n",
       "      <th>38869</th>\n",
       "      <td>D203VCOPFZ</td>\n",
       "      <td>2019-07-26</td>\n",
       "      <td>149.0</td>\n",
       "      <td>0.0</td>\n",
       "    </tr>\n",
       "  </tbody>\n",
       "</table>\n",
       "</div>"
      ],
      "text/plain": [
       "         SKU_NAME   FEED_DATE   VIEWS  UNITS\n",
       "37530  C21PIJY9C2  2019-06-16   267.0    0.0\n",
       "8023   D20CSKXW4I  2019-08-20  1019.0   58.0\n",
       "30479  B08:;5YP75  2019-07-23   180.0    0.0\n",
       "7389   D02DR5SY3I  2019-07-11   142.0    0.0\n",
       "38869  D203VCOPFZ  2019-07-26   149.0    0.0"
      ]
     },
     "execution_count": 16,
     "metadata": {},
     "output_type": "execute_result"
    }
   ],
   "source": [
    "gv.sample(5)"
   ]
  },
  {
   "cell_type": "code",
   "execution_count": 17,
   "id": "e55c593c-1a98-4cc8-bfb6-7dda1eafc30c",
   "metadata": {},
   "outputs": [
    {
     "data": {
      "text/plain": [
       "((41115, 7), (40745, 4))"
      ]
     },
     "execution_count": 17,
     "metadata": {},
     "output_type": "execute_result"
    }
   ],
   "source": [
    "sd.shape, gv.shape"
   ]
  },
  {
   "cell_type": "code",
   "execution_count": 20,
   "id": "dc1cd21d-7296-493a-b049-85bfc32fb855",
   "metadata": {},
   "outputs": [
    {
     "name": "stdout",
     "output_type": "stream",
     "text": [
      "<class 'pandas.core.frame.DataFrame'>\n",
      "RangeIndex: 41115 entries, 0 to 41114\n",
      "Data columns (total 7 columns):\n",
      " #   Column           Non-Null Count  Dtype  \n",
      "---  ------           --------------  -----  \n",
      " 0   SKU_NAME         41115 non-null  object \n",
      " 1   FEED_DATE        41115 non-null  object \n",
      " 2   CATEGORY         41115 non-null  object \n",
      " 3   SUB_CATEGORY     41115 non-null  object \n",
      " 4   ORDERED_REVENUE  41115 non-null  float64\n",
      " 5   ORDERED_UNITS    41115 non-null  float64\n",
      " 6   REP_OOS          40426 non-null  float64\n",
      "dtypes: float64(3), object(4)\n",
      "memory usage: 2.2+ MB\n",
      "<class 'pandas.core.frame.DataFrame'>\n",
      "RangeIndex: 40745 entries, 0 to 40744\n",
      "Data columns (total 4 columns):\n",
      " #   Column     Non-Null Count  Dtype  \n",
      "---  ------     --------------  -----  \n",
      " 0   SKU_NAME   40745 non-null  object \n",
      " 1   FEED_DATE  40745 non-null  object \n",
      " 2   VIEWS      40745 non-null  float64\n",
      " 3   UNITS      40745 non-null  float64\n",
      "dtypes: float64(2), object(2)\n",
      "memory usage: 1.2+ MB\n"
     ]
    },
    {
     "data": {
      "text/plain": [
       "(None, None)"
      ]
     },
     "execution_count": 20,
     "metadata": {},
     "output_type": "execute_result"
    }
   ],
   "source": [
    "sd.info(), gv.info()"
   ]
  },
  {
   "cell_type": "code",
   "execution_count": 64,
   "id": "54452c54-ed11-4359-af3d-0445a4a6ecab",
   "metadata": {},
   "outputs": [
    {
     "data": {
      "text/plain": [
       "SKU_NAME             0\n",
       "FEED_DATE            0\n",
       "CATEGORY             0\n",
       "SUB_CATEGORY         0\n",
       "ORDERED_REVENUE      0\n",
       "ORDERED_UNITS        0\n",
       "REP_OOS            689\n",
       "dtype: int64"
      ]
     },
     "execution_count": 64,
     "metadata": {},
     "output_type": "execute_result"
    }
   ],
   "source": [
    "sd.isnull().sum()"
   ]
  },
  {
   "cell_type": "code",
   "execution_count": 21,
   "id": "6d5cc2d6-9f6b-4513-a2c0-22ede5d078f6",
   "metadata": {},
   "outputs": [],
   "source": [
    "# No null values are present in sales_data and glance_view"
   ]
  },
  {
   "cell_type": "code",
   "execution_count": 27,
   "id": "f9f17687-0975-42ad-bfb1-26ad870ab8b1",
   "metadata": {},
   "outputs": [
    {
     "data": {
      "text/html": [
       "<div>\n",
       "<style scoped>\n",
       "    .dataframe tbody tr th:only-of-type {\n",
       "        vertical-align: middle;\n",
       "    }\n",
       "\n",
       "    .dataframe tbody tr th {\n",
       "        vertical-align: top;\n",
       "    }\n",
       "\n",
       "    .dataframe thead th {\n",
       "        text-align: right;\n",
       "    }\n",
       "</style>\n",
       "<table border=\"1\" class=\"dataframe\">\n",
       "  <thead>\n",
       "    <tr style=\"text-align: right;\">\n",
       "      <th></th>\n",
       "      <th>SKU_NAME</th>\n",
       "      <th>FEED_DATE</th>\n",
       "      <th>CATEGORY</th>\n",
       "      <th>SUB_CATEGORY</th>\n",
       "      <th>ORDERED_REVENUE</th>\n",
       "      <th>ORDERED_UNITS</th>\n",
       "      <th>REP_OOS</th>\n",
       "    </tr>\n",
       "  </thead>\n",
       "  <tbody>\n",
       "  </tbody>\n",
       "</table>\n",
       "</div>"
      ],
      "text/plain": [
       "Empty DataFrame\n",
       "Columns: [SKU_NAME, FEED_DATE, CATEGORY, SUB_CATEGORY, ORDERED_REVENUE, ORDERED_UNITS, REP_OOS]\n",
       "Index: []"
      ]
     },
     "execution_count": 27,
     "metadata": {},
     "output_type": "execute_result"
    }
   ],
   "source": [
    "sd[sd.duplicated()]"
   ]
  },
  {
   "cell_type": "code",
   "execution_count": 28,
   "id": "7bf18e1e-a614-4bc9-8d1a-937d565e590d",
   "metadata": {},
   "outputs": [
    {
     "data": {
      "text/html": [
       "<div>\n",
       "<style scoped>\n",
       "    .dataframe tbody tr th:only-of-type {\n",
       "        vertical-align: middle;\n",
       "    }\n",
       "\n",
       "    .dataframe tbody tr th {\n",
       "        vertical-align: top;\n",
       "    }\n",
       "\n",
       "    .dataframe thead th {\n",
       "        text-align: right;\n",
       "    }\n",
       "</style>\n",
       "<table border=\"1\" class=\"dataframe\">\n",
       "  <thead>\n",
       "    <tr style=\"text-align: right;\">\n",
       "      <th></th>\n",
       "      <th>SKU_NAME</th>\n",
       "      <th>FEED_DATE</th>\n",
       "      <th>VIEWS</th>\n",
       "      <th>UNITS</th>\n",
       "    </tr>\n",
       "  </thead>\n",
       "  <tbody>\n",
       "  </tbody>\n",
       "</table>\n",
       "</div>"
      ],
      "text/plain": [
       "Empty DataFrame\n",
       "Columns: [SKU_NAME, FEED_DATE, VIEWS, UNITS]\n",
       "Index: []"
      ]
     },
     "execution_count": 28,
     "metadata": {},
     "output_type": "execute_result"
    }
   ],
   "source": [
    "gv[gv.duplicated()]"
   ]
  },
  {
   "cell_type": "code",
   "execution_count": 29,
   "id": "68f88010-7731-4da7-99bb-9b7d09db7ad5",
   "metadata": {},
   "outputs": [],
   "source": [
    "# No duplicate values"
   ]
  },
  {
   "cell_type": "raw",
   "id": "80e13531-d8f1-46a9-990f-77575f6dc3a9",
   "metadata": {},
   "source": [
    "1. Sales_Data\n",
    "Column - Description\n",
    "SKU_Name - Unique product identifier\n",
    "Feed_date - Date of data entry\n",
    "Category - Broad Amazon category the product belongs to\n",
    "SubCategory - Subdivision of Category\n",
    "Ordered_Revenue - Total revenue from orders for that SKU on that day\n",
    "Ordered_Units - Number of units ordered\n",
    "Rep_OOS - Percentage of views where the product was out of stock\n",
    "\n",
    "2. Glance_Views\n",
    "Column - Description\n",
    "Feed_date - Date of data entry\n",
    "SKU_Name - Product identifier\n",
    "Views - Total page views for the product\n",
    "Units - Units sold through views on that day"
   ]
  },
  {
   "cell_type": "code",
   "execution_count": 38,
   "id": "95d0ec7b-d4a7-42c7-84b4-44471b0cef87",
   "metadata": {},
   "outputs": [],
   "source": [
    "sd['FEED_DATE'] = pd.to_datetime(sd['FEED_DATE'])\n",
    "gv['FEED_DATE'] = pd.to_datetime(gv['FEED_DATE'])"
   ]
  },
  {
   "cell_type": "markdown",
   "id": "a3022a6c-eea7-4a19-ac0e-41fa3c64f1d3",
   "metadata": {},
   "source": [
    "### Question 6: Anomalies"
   ]
  },
  {
   "cell_type": "code",
   "execution_count": 49,
   "id": "34943a87-9d6e-4dff-aea9-bc46f1d5abdd",
   "metadata": {},
   "outputs": [
    {
     "data": {
      "text/html": [
       "<div>\n",
       "<style scoped>\n",
       "    .dataframe tbody tr th:only-of-type {\n",
       "        vertical-align: middle;\n",
       "    }\n",
       "\n",
       "    .dataframe tbody tr th {\n",
       "        vertical-align: top;\n",
       "    }\n",
       "\n",
       "    .dataframe thead th {\n",
       "        text-align: right;\n",
       "    }\n",
       "</style>\n",
       "<table border=\"1\" class=\"dataframe\">\n",
       "  <thead>\n",
       "    <tr style=\"text-align: right;\">\n",
       "      <th></th>\n",
       "      <th>SKU_NAME</th>\n",
       "      <th>FEED_DATE</th>\n",
       "      <th>CATEGORY</th>\n",
       "      <th>SUB_CATEGORY</th>\n",
       "      <th>ORDERED_REVENUE</th>\n",
       "      <th>ORDERED_UNITS</th>\n",
       "      <th>REP_OOS</th>\n",
       "    </tr>\n",
       "  </thead>\n",
       "  <tbody>\n",
       "    <tr>\n",
       "      <th>686</th>\n",
       "      <td>C211F62H36</td>\n",
       "      <td>2019-07-03</td>\n",
       "      <td>1000 Inputs</td>\n",
       "      <td>1001 Keyboards</td>\n",
       "      <td>-57.99</td>\n",
       "      <td>-1.0</td>\n",
       "      <td>0.00</td>\n",
       "    </tr>\n",
       "    <tr>\n",
       "      <th>1952</th>\n",
       "      <td>B004FMWNKW</td>\n",
       "      <td>2019-06-21</td>\n",
       "      <td>0400 Computer Peripherals</td>\n",
       "      <td>0455 Keyboards - DELETED</td>\n",
       "      <td>-134.85</td>\n",
       "      <td>-15.0</td>\n",
       "      <td>0.00</td>\n",
       "    </tr>\n",
       "    <tr>\n",
       "      <th>1953</th>\n",
       "      <td>B004FMWNKW</td>\n",
       "      <td>2019-06-22</td>\n",
       "      <td>0400 Computer Peripherals</td>\n",
       "      <td>0455 Keyboards - DELETED</td>\n",
       "      <td>-80.91</td>\n",
       "      <td>-9.0</td>\n",
       "      <td>0.00</td>\n",
       "    </tr>\n",
       "    <tr>\n",
       "      <th>1954</th>\n",
       "      <td>B004FMWNKW</td>\n",
       "      <td>2019-06-23</td>\n",
       "      <td>0400 Computer Peripherals</td>\n",
       "      <td>0455 Keyboards - DELETED</td>\n",
       "      <td>-107.88</td>\n",
       "      <td>-12.0</td>\n",
       "      <td>0.00</td>\n",
       "    </tr>\n",
       "    <tr>\n",
       "      <th>1955</th>\n",
       "      <td>B004FMWNKW</td>\n",
       "      <td>2019-06-24</td>\n",
       "      <td>0400 Computer Peripherals</td>\n",
       "      <td>0455 Keyboards - DELETED</td>\n",
       "      <td>-80.91</td>\n",
       "      <td>-9.0</td>\n",
       "      <td>0.00</td>\n",
       "    </tr>\n",
       "    <tr>\n",
       "      <th>...</th>\n",
       "      <td>...</td>\n",
       "      <td>...</td>\n",
       "      <td>...</td>\n",
       "      <td>...</td>\n",
       "      <td>...</td>\n",
       "      <td>...</td>\n",
       "      <td>...</td>\n",
       "    </tr>\n",
       "    <tr>\n",
       "      <th>40947</th>\n",
       "      <td>D28QU2Q7[:</td>\n",
       "      <td>2019-06-06</td>\n",
       "      <td>1000 Inputs</td>\n",
       "      <td>1003 Computer Speakers</td>\n",
       "      <td>-199.99</td>\n",
       "      <td>-1.0</td>\n",
       "      <td>0.00</td>\n",
       "    </tr>\n",
       "    <tr>\n",
       "      <th>40949</th>\n",
       "      <td>D28QU2Q7[:</td>\n",
       "      <td>2019-06-08</td>\n",
       "      <td>1000 Inputs</td>\n",
       "      <td>1003 Computer Speakers</td>\n",
       "      <td>-199.99</td>\n",
       "      <td>-1.0</td>\n",
       "      <td>0.00</td>\n",
       "    </tr>\n",
       "    <tr>\n",
       "      <th>40957</th>\n",
       "      <td>D28QU2Q7[:</td>\n",
       "      <td>2019-06-16</td>\n",
       "      <td>1000 Inputs</td>\n",
       "      <td>1003 Computer Speakers</td>\n",
       "      <td>-199.99</td>\n",
       "      <td>-1.0</td>\n",
       "      <td>4.55</td>\n",
       "    </tr>\n",
       "    <tr>\n",
       "      <th>41051</th>\n",
       "      <td>C19T:CGV3L</td>\n",
       "      <td>2019-05-27</td>\n",
       "      <td>5300 Headphones</td>\n",
       "      <td>5310 Headphones</td>\n",
       "      <td>-29.99</td>\n",
       "      <td>-1.0</td>\n",
       "      <td>0.00</td>\n",
       "    </tr>\n",
       "    <tr>\n",
       "      <th>41056</th>\n",
       "      <td>C19T:CGV3L</td>\n",
       "      <td>2019-08-07</td>\n",
       "      <td>5300 Headphones</td>\n",
       "      <td>5310 Headphones</td>\n",
       "      <td>-29.99</td>\n",
       "      <td>-1.0</td>\n",
       "      <td>NaN</td>\n",
       "    </tr>\n",
       "  </tbody>\n",
       "</table>\n",
       "<p>404 rows × 7 columns</p>\n",
       "</div>"
      ],
      "text/plain": [
       "         SKU_NAME  FEED_DATE                   CATEGORY  \\\n",
       "686    C211F62H36 2019-07-03                1000 Inputs   \n",
       "1952   B004FMWNKW 2019-06-21  0400 Computer Peripherals   \n",
       "1953   B004FMWNKW 2019-06-22  0400 Computer Peripherals   \n",
       "1954   B004FMWNKW 2019-06-23  0400 Computer Peripherals   \n",
       "1955   B004FMWNKW 2019-06-24  0400 Computer Peripherals   \n",
       "...           ...        ...                        ...   \n",
       "40947  D28QU2Q7[: 2019-06-06                1000 Inputs   \n",
       "40949  D28QU2Q7[: 2019-06-08                1000 Inputs   \n",
       "40957  D28QU2Q7[: 2019-06-16                1000 Inputs   \n",
       "41051  C19T:CGV3L 2019-05-27            5300 Headphones   \n",
       "41056  C19T:CGV3L 2019-08-07            5300 Headphones   \n",
       "\n",
       "                   SUB_CATEGORY  ORDERED_REVENUE  ORDERED_UNITS  REP_OOS  \n",
       "686              1001 Keyboards           -57.99           -1.0     0.00  \n",
       "1952   0455 Keyboards - DELETED          -134.85          -15.0     0.00  \n",
       "1953   0455 Keyboards - DELETED           -80.91           -9.0     0.00  \n",
       "1954   0455 Keyboards - DELETED          -107.88          -12.0     0.00  \n",
       "1955   0455 Keyboards - DELETED           -80.91           -9.0     0.00  \n",
       "...                         ...              ...            ...      ...  \n",
       "40947    1003 Computer Speakers          -199.99           -1.0     0.00  \n",
       "40949    1003 Computer Speakers          -199.99           -1.0     0.00  \n",
       "40957    1003 Computer Speakers          -199.99           -1.0     4.55  \n",
       "41051           5310 Headphones           -29.99           -1.0     0.00  \n",
       "41056           5310 Headphones           -29.99           -1.0      NaN  \n",
       "\n",
       "[404 rows x 7 columns]"
      ]
     },
     "execution_count": 49,
     "metadata": {},
     "output_type": "execute_result"
    }
   ],
   "source": [
    "# Negative Revenues\n",
    "sd[sd['ORDERED_REVENUE'] < 0]"
   ]
  },
  {
   "cell_type": "code",
   "execution_count": 50,
   "id": "85c031ba-ed42-4980-ae58-43fb9ea6cdcb",
   "metadata": {},
   "outputs": [
    {
     "data": {
      "text/html": [
       "<div>\n",
       "<style scoped>\n",
       "    .dataframe tbody tr th:only-of-type {\n",
       "        vertical-align: middle;\n",
       "    }\n",
       "\n",
       "    .dataframe tbody tr th {\n",
       "        vertical-align: top;\n",
       "    }\n",
       "\n",
       "    .dataframe thead th {\n",
       "        text-align: right;\n",
       "    }\n",
       "</style>\n",
       "<table border=\"1\" class=\"dataframe\">\n",
       "  <thead>\n",
       "    <tr style=\"text-align: right;\">\n",
       "      <th></th>\n",
       "      <th>SKU_NAME</th>\n",
       "      <th>FEED_DATE</th>\n",
       "      <th>CATEGORY</th>\n",
       "      <th>SUB_CATEGORY</th>\n",
       "      <th>ORDERED_REVENUE</th>\n",
       "      <th>ORDERED_UNITS</th>\n",
       "      <th>REP_OOS</th>\n",
       "    </tr>\n",
       "  </thead>\n",
       "  <tbody>\n",
       "    <tr>\n",
       "      <th>686</th>\n",
       "      <td>C211F62H36</td>\n",
       "      <td>2019-07-03</td>\n",
       "      <td>1000 Inputs</td>\n",
       "      <td>1001 Keyboards</td>\n",
       "      <td>-57.99</td>\n",
       "      <td>-1.0</td>\n",
       "      <td>0.00</td>\n",
       "    </tr>\n",
       "    <tr>\n",
       "      <th>1952</th>\n",
       "      <td>B004FMWNKW</td>\n",
       "      <td>2019-06-21</td>\n",
       "      <td>0400 Computer Peripherals</td>\n",
       "      <td>0455 Keyboards - DELETED</td>\n",
       "      <td>-134.85</td>\n",
       "      <td>-15.0</td>\n",
       "      <td>0.00</td>\n",
       "    </tr>\n",
       "    <tr>\n",
       "      <th>1953</th>\n",
       "      <td>B004FMWNKW</td>\n",
       "      <td>2019-06-22</td>\n",
       "      <td>0400 Computer Peripherals</td>\n",
       "      <td>0455 Keyboards - DELETED</td>\n",
       "      <td>-80.91</td>\n",
       "      <td>-9.0</td>\n",
       "      <td>0.00</td>\n",
       "    </tr>\n",
       "    <tr>\n",
       "      <th>1954</th>\n",
       "      <td>B004FMWNKW</td>\n",
       "      <td>2019-06-23</td>\n",
       "      <td>0400 Computer Peripherals</td>\n",
       "      <td>0455 Keyboards - DELETED</td>\n",
       "      <td>-107.88</td>\n",
       "      <td>-12.0</td>\n",
       "      <td>0.00</td>\n",
       "    </tr>\n",
       "    <tr>\n",
       "      <th>1955</th>\n",
       "      <td>B004FMWNKW</td>\n",
       "      <td>2019-06-24</td>\n",
       "      <td>0400 Computer Peripherals</td>\n",
       "      <td>0455 Keyboards - DELETED</td>\n",
       "      <td>-80.91</td>\n",
       "      <td>-9.0</td>\n",
       "      <td>0.00</td>\n",
       "    </tr>\n",
       "    <tr>\n",
       "      <th>...</th>\n",
       "      <td>...</td>\n",
       "      <td>...</td>\n",
       "      <td>...</td>\n",
       "      <td>...</td>\n",
       "      <td>...</td>\n",
       "      <td>...</td>\n",
       "      <td>...</td>\n",
       "    </tr>\n",
       "    <tr>\n",
       "      <th>40947</th>\n",
       "      <td>D28QU2Q7[:</td>\n",
       "      <td>2019-06-06</td>\n",
       "      <td>1000 Inputs</td>\n",
       "      <td>1003 Computer Speakers</td>\n",
       "      <td>-199.99</td>\n",
       "      <td>-1.0</td>\n",
       "      <td>0.00</td>\n",
       "    </tr>\n",
       "    <tr>\n",
       "      <th>40949</th>\n",
       "      <td>D28QU2Q7[:</td>\n",
       "      <td>2019-06-08</td>\n",
       "      <td>1000 Inputs</td>\n",
       "      <td>1003 Computer Speakers</td>\n",
       "      <td>-199.99</td>\n",
       "      <td>-1.0</td>\n",
       "      <td>0.00</td>\n",
       "    </tr>\n",
       "    <tr>\n",
       "      <th>40957</th>\n",
       "      <td>D28QU2Q7[:</td>\n",
       "      <td>2019-06-16</td>\n",
       "      <td>1000 Inputs</td>\n",
       "      <td>1003 Computer Speakers</td>\n",
       "      <td>-199.99</td>\n",
       "      <td>-1.0</td>\n",
       "      <td>4.55</td>\n",
       "    </tr>\n",
       "    <tr>\n",
       "      <th>41051</th>\n",
       "      <td>C19T:CGV3L</td>\n",
       "      <td>2019-05-27</td>\n",
       "      <td>5300 Headphones</td>\n",
       "      <td>5310 Headphones</td>\n",
       "      <td>-29.99</td>\n",
       "      <td>-1.0</td>\n",
       "      <td>0.00</td>\n",
       "    </tr>\n",
       "    <tr>\n",
       "      <th>41056</th>\n",
       "      <td>C19T:CGV3L</td>\n",
       "      <td>2019-08-07</td>\n",
       "      <td>5300 Headphones</td>\n",
       "      <td>5310 Headphones</td>\n",
       "      <td>-29.99</td>\n",
       "      <td>-1.0</td>\n",
       "      <td>NaN</td>\n",
       "    </tr>\n",
       "  </tbody>\n",
       "</table>\n",
       "<p>388 rows × 7 columns</p>\n",
       "</div>"
      ],
      "text/plain": [
       "         SKU_NAME  FEED_DATE                   CATEGORY  \\\n",
       "686    C211F62H36 2019-07-03                1000 Inputs   \n",
       "1952   B004FMWNKW 2019-06-21  0400 Computer Peripherals   \n",
       "1953   B004FMWNKW 2019-06-22  0400 Computer Peripherals   \n",
       "1954   B004FMWNKW 2019-06-23  0400 Computer Peripherals   \n",
       "1955   B004FMWNKW 2019-06-24  0400 Computer Peripherals   \n",
       "...           ...        ...                        ...   \n",
       "40947  D28QU2Q7[: 2019-06-06                1000 Inputs   \n",
       "40949  D28QU2Q7[: 2019-06-08                1000 Inputs   \n",
       "40957  D28QU2Q7[: 2019-06-16                1000 Inputs   \n",
       "41051  C19T:CGV3L 2019-05-27            5300 Headphones   \n",
       "41056  C19T:CGV3L 2019-08-07            5300 Headphones   \n",
       "\n",
       "                   SUB_CATEGORY  ORDERED_REVENUE  ORDERED_UNITS  REP_OOS  \n",
       "686              1001 Keyboards           -57.99           -1.0     0.00  \n",
       "1952   0455 Keyboards - DELETED          -134.85          -15.0     0.00  \n",
       "1953   0455 Keyboards - DELETED           -80.91           -9.0     0.00  \n",
       "1954   0455 Keyboards - DELETED          -107.88          -12.0     0.00  \n",
       "1955   0455 Keyboards - DELETED           -80.91           -9.0     0.00  \n",
       "...                         ...              ...            ...      ...  \n",
       "40947    1003 Computer Speakers          -199.99           -1.0     0.00  \n",
       "40949    1003 Computer Speakers          -199.99           -1.0     0.00  \n",
       "40957    1003 Computer Speakers          -199.99           -1.0     4.55  \n",
       "41051           5310 Headphones           -29.99           -1.0     0.00  \n",
       "41056           5310 Headphones           -29.99           -1.0      NaN  \n",
       "\n",
       "[388 rows x 7 columns]"
      ]
     },
     "execution_count": 50,
     "metadata": {},
     "output_type": "execute_result"
    }
   ],
   "source": [
    "# Negative Units\n",
    "sd[sd['ORDERED_UNITS'] < 0]"
   ]
  },
  {
   "cell_type": "code",
   "execution_count": 58,
   "id": "5ad66ac3-adda-4e8d-8b4c-8f17640c42d5",
   "metadata": {},
   "outputs": [
    {
     "data": {
      "text/html": [
       "<div>\n",
       "<style scoped>\n",
       "    .dataframe tbody tr th:only-of-type {\n",
       "        vertical-align: middle;\n",
       "    }\n",
       "\n",
       "    .dataframe tbody tr th {\n",
       "        vertical-align: top;\n",
       "    }\n",
       "\n",
       "    .dataframe thead th {\n",
       "        text-align: right;\n",
       "    }\n",
       "</style>\n",
       "<table border=\"1\" class=\"dataframe\">\n",
       "  <thead>\n",
       "    <tr style=\"text-align: right;\">\n",
       "      <th></th>\n",
       "      <th>SKU_NAME</th>\n",
       "      <th>FEED_DATE</th>\n",
       "      <th>VIEWS</th>\n",
       "      <th>UNITS</th>\n",
       "    </tr>\n",
       "  </thead>\n",
       "  <tbody>\n",
       "  </tbody>\n",
       "</table>\n",
       "</div>"
      ],
      "text/plain": [
       "Empty DataFrame\n",
       "Columns: [SKU_NAME, FEED_DATE, VIEWS, UNITS]\n",
       "Index: []"
      ]
     },
     "execution_count": 58,
     "metadata": {},
     "output_type": "execute_result"
    }
   ],
   "source": [
    "# Units sold with 0 views\n",
    "gv[ (gv['VIEWS'] == 0) & (gv['UNITS'] > 0) ]"
   ]
  },
  {
   "cell_type": "code",
   "execution_count": 59,
   "id": "452edb27-eceb-4dda-901c-9277f906a0b6",
   "metadata": {},
   "outputs": [
    {
     "data": {
      "text/html": [
       "<div>\n",
       "<style scoped>\n",
       "    .dataframe tbody tr th:only-of-type {\n",
       "        vertical-align: middle;\n",
       "    }\n",
       "\n",
       "    .dataframe tbody tr th {\n",
       "        vertical-align: top;\n",
       "    }\n",
       "\n",
       "    .dataframe thead th {\n",
       "        text-align: right;\n",
       "    }\n",
       "</style>\n",
       "<table border=\"1\" class=\"dataframe\">\n",
       "  <thead>\n",
       "    <tr style=\"text-align: right;\">\n",
       "      <th></th>\n",
       "      <th>SKU_NAME</th>\n",
       "      <th>FEED_DATE</th>\n",
       "      <th>CATEGORY</th>\n",
       "      <th>SUB_CATEGORY</th>\n",
       "      <th>ORDERED_REVENUE</th>\n",
       "      <th>ORDERED_UNITS</th>\n",
       "      <th>REP_OOS</th>\n",
       "    </tr>\n",
       "  </thead>\n",
       "  <tbody>\n",
       "  </tbody>\n",
       "</table>\n",
       "</div>"
      ],
      "text/plain": [
       "Empty DataFrame\n",
       "Columns: [SKU_NAME, FEED_DATE, CATEGORY, SUB_CATEGORY, ORDERED_REVENUE, ORDERED_UNITS, REP_OOS]\n",
       "Index: []"
      ]
     },
     "execution_count": 59,
     "metadata": {},
     "output_type": "execute_result"
    }
   ],
   "source": [
    "# Invalid OOS%:\n",
    "sd[ (sd['REP_OOS'] > 100) & (sd['REP_OOS'] < 0) ]"
   ]
  },
  {
   "cell_type": "code",
   "execution_count": 61,
   "id": "45918aad-926a-44b7-b582-ed2cd2e54f07",
   "metadata": {},
   "outputs": [
    {
     "data": {
      "text/html": [
       "<div>\n",
       "<style scoped>\n",
       "    .dataframe tbody tr th:only-of-type {\n",
       "        vertical-align: middle;\n",
       "    }\n",
       "\n",
       "    .dataframe tbody tr th {\n",
       "        vertical-align: top;\n",
       "    }\n",
       "\n",
       "    .dataframe thead th {\n",
       "        text-align: right;\n",
       "    }\n",
       "</style>\n",
       "<table border=\"1\" class=\"dataframe\">\n",
       "  <thead>\n",
       "    <tr style=\"text-align: right;\">\n",
       "      <th></th>\n",
       "      <th>SKU_NAME</th>\n",
       "      <th>FEED_DATE</th>\n",
       "      <th>CATEGORY</th>\n",
       "      <th>SUB_CATEGORY</th>\n",
       "      <th>ORDERED_REVENUE</th>\n",
       "      <th>ORDERED_UNITS</th>\n",
       "      <th>REP_OOS</th>\n",
       "    </tr>\n",
       "  </thead>\n",
       "  <tbody>\n",
       "    <tr>\n",
       "      <th>0</th>\n",
       "      <td>B12020KBUI</td>\n",
       "      <td>2019-05-18</td>\n",
       "      <td>1000 Inputs</td>\n",
       "      <td>1002 Mice</td>\n",
       "      <td>0.00</td>\n",
       "      <td>0.0</td>\n",
       "      <td>0.0</td>\n",
       "    </tr>\n",
       "    <tr>\n",
       "      <th>1</th>\n",
       "      <td>B12020KBUI</td>\n",
       "      <td>2019-05-19</td>\n",
       "      <td>1000 Inputs</td>\n",
       "      <td>1002 Mice</td>\n",
       "      <td>0.00</td>\n",
       "      <td>0.0</td>\n",
       "      <td>0.0</td>\n",
       "    </tr>\n",
       "    <tr>\n",
       "      <th>2</th>\n",
       "      <td>B12020KBUI</td>\n",
       "      <td>2019-05-22</td>\n",
       "      <td>1000 Inputs</td>\n",
       "      <td>1002 Mice</td>\n",
       "      <td>0.00</td>\n",
       "      <td>0.0</td>\n",
       "      <td>0.0</td>\n",
       "    </tr>\n",
       "    <tr>\n",
       "      <th>3</th>\n",
       "      <td>B12020KBUI</td>\n",
       "      <td>2019-05-23</td>\n",
       "      <td>1000 Inputs</td>\n",
       "      <td>1002 Mice</td>\n",
       "      <td>0.00</td>\n",
       "      <td>0.0</td>\n",
       "      <td>0.0</td>\n",
       "    </tr>\n",
       "    <tr>\n",
       "      <th>4</th>\n",
       "      <td>B12020KBUI</td>\n",
       "      <td>2019-05-27</td>\n",
       "      <td>1000 Inputs</td>\n",
       "      <td>1002 Mice</td>\n",
       "      <td>0.00</td>\n",
       "      <td>0.0</td>\n",
       "      <td>0.0</td>\n",
       "    </tr>\n",
       "    <tr>\n",
       "      <th>...</th>\n",
       "      <td>...</td>\n",
       "      <td>...</td>\n",
       "      <td>...</td>\n",
       "      <td>...</td>\n",
       "      <td>...</td>\n",
       "      <td>...</td>\n",
       "      <td>...</td>\n",
       "    </tr>\n",
       "    <tr>\n",
       "      <th>41110</th>\n",
       "      <td>D29S5IMRDI</td>\n",
       "      <td>2019-08-27</td>\n",
       "      <td>1000 Inputs</td>\n",
       "      <td>1007 Other Input Devices</td>\n",
       "      <td>129.99</td>\n",
       "      <td>1.0</td>\n",
       "      <td>0.0</td>\n",
       "    </tr>\n",
       "    <tr>\n",
       "      <th>41111</th>\n",
       "      <td>D29S5IMRDI</td>\n",
       "      <td>2019-08-28</td>\n",
       "      <td>1000 Inputs</td>\n",
       "      <td>1007 Other Input Devices</td>\n",
       "      <td>259.98</td>\n",
       "      <td>2.0</td>\n",
       "      <td>0.0</td>\n",
       "    </tr>\n",
       "    <tr>\n",
       "      <th>41112</th>\n",
       "      <td>D29S5IMRDI</td>\n",
       "      <td>2019-08-29</td>\n",
       "      <td>1000 Inputs</td>\n",
       "      <td>1007 Other Input Devices</td>\n",
       "      <td>259.98</td>\n",
       "      <td>2.0</td>\n",
       "      <td>0.0</td>\n",
       "    </tr>\n",
       "    <tr>\n",
       "      <th>41113</th>\n",
       "      <td>D29S5IMRDI</td>\n",
       "      <td>2019-08-30</td>\n",
       "      <td>1000 Inputs</td>\n",
       "      <td>1007 Other Input Devices</td>\n",
       "      <td>259.98</td>\n",
       "      <td>2.0</td>\n",
       "      <td>0.0</td>\n",
       "    </tr>\n",
       "    <tr>\n",
       "      <th>41114</th>\n",
       "      <td>D29S5IMRDI</td>\n",
       "      <td>2019-08-31</td>\n",
       "      <td>1000 Inputs</td>\n",
       "      <td>1007 Other Input Devices</td>\n",
       "      <td>0.00</td>\n",
       "      <td>0.0</td>\n",
       "      <td>0.0</td>\n",
       "    </tr>\n",
       "  </tbody>\n",
       "</table>\n",
       "<p>40707 rows × 7 columns</p>\n",
       "</div>"
      ],
      "text/plain": [
       "         SKU_NAME  FEED_DATE     CATEGORY              SUB_CATEGORY  \\\n",
       "0      B12020KBUI 2019-05-18  1000 Inputs                 1002 Mice   \n",
       "1      B12020KBUI 2019-05-19  1000 Inputs                 1002 Mice   \n",
       "2      B12020KBUI 2019-05-22  1000 Inputs                 1002 Mice   \n",
       "3      B12020KBUI 2019-05-23  1000 Inputs                 1002 Mice   \n",
       "4      B12020KBUI 2019-05-27  1000 Inputs                 1002 Mice   \n",
       "...           ...        ...          ...                       ...   \n",
       "41110  D29S5IMRDI 2019-08-27  1000 Inputs  1007 Other Input Devices   \n",
       "41111  D29S5IMRDI 2019-08-28  1000 Inputs  1007 Other Input Devices   \n",
       "41112  D29S5IMRDI 2019-08-29  1000 Inputs  1007 Other Input Devices   \n",
       "41113  D29S5IMRDI 2019-08-30  1000 Inputs  1007 Other Input Devices   \n",
       "41114  D29S5IMRDI 2019-08-31  1000 Inputs  1007 Other Input Devices   \n",
       "\n",
       "       ORDERED_REVENUE  ORDERED_UNITS  REP_OOS  \n",
       "0                 0.00            0.0      0.0  \n",
       "1                 0.00            0.0      0.0  \n",
       "2                 0.00            0.0      0.0  \n",
       "3                 0.00            0.0      0.0  \n",
       "4                 0.00            0.0      0.0  \n",
       "...                ...            ...      ...  \n",
       "41110           129.99            1.0      0.0  \n",
       "41111           259.98            2.0      0.0  \n",
       "41112           259.98            2.0      0.0  \n",
       "41113           259.98            2.0      0.0  \n",
       "41114             0.00            0.0      0.0  \n",
       "\n",
       "[40707 rows x 7 columns]"
      ]
     },
     "execution_count": 61,
     "metadata": {},
     "output_type": "execute_result"
    }
   ],
   "source": [
    "sd[(sd['ORDERED_REVENUE'] >= 0) & (sd['ORDERED_UNITS'] >= 0)]"
   ]
  },
  {
   "cell_type": "code",
   "execution_count": 62,
   "id": "4dc95c97-3a59-4ccc-9d4c-73f1c2dbc7ea",
   "metadata": {},
   "outputs": [
    {
     "data": {
      "text/html": [
       "<div>\n",
       "<style scoped>\n",
       "    .dataframe tbody tr th:only-of-type {\n",
       "        vertical-align: middle;\n",
       "    }\n",
       "\n",
       "    .dataframe tbody tr th {\n",
       "        vertical-align: top;\n",
       "    }\n",
       "\n",
       "    .dataframe thead th {\n",
       "        text-align: right;\n",
       "    }\n",
       "</style>\n",
       "<table border=\"1\" class=\"dataframe\">\n",
       "  <thead>\n",
       "    <tr style=\"text-align: right;\">\n",
       "      <th></th>\n",
       "      <th>SKU_NAME</th>\n",
       "      <th>FEED_DATE</th>\n",
       "      <th>CATEGORY</th>\n",
       "      <th>SUB_CATEGORY</th>\n",
       "      <th>ORDERED_REVENUE</th>\n",
       "      <th>ORDERED_UNITS</th>\n",
       "      <th>REP_OOS</th>\n",
       "    </tr>\n",
       "  </thead>\n",
       "  <tbody>\n",
       "    <tr>\n",
       "      <th>686</th>\n",
       "      <td>C211F62H36</td>\n",
       "      <td>2019-07-03</td>\n",
       "      <td>1000 Inputs</td>\n",
       "      <td>1001 Keyboards</td>\n",
       "      <td>-57.99</td>\n",
       "      <td>-1.0</td>\n",
       "      <td>0.00</td>\n",
       "    </tr>\n",
       "    <tr>\n",
       "      <th>1952</th>\n",
       "      <td>B004FMWNKW</td>\n",
       "      <td>2019-06-21</td>\n",
       "      <td>0400 Computer Peripherals</td>\n",
       "      <td>0455 Keyboards - DELETED</td>\n",
       "      <td>-134.85</td>\n",
       "      <td>-15.0</td>\n",
       "      <td>0.00</td>\n",
       "    </tr>\n",
       "    <tr>\n",
       "      <th>1953</th>\n",
       "      <td>B004FMWNKW</td>\n",
       "      <td>2019-06-22</td>\n",
       "      <td>0400 Computer Peripherals</td>\n",
       "      <td>0455 Keyboards - DELETED</td>\n",
       "      <td>-80.91</td>\n",
       "      <td>-9.0</td>\n",
       "      <td>0.00</td>\n",
       "    </tr>\n",
       "    <tr>\n",
       "      <th>1954</th>\n",
       "      <td>B004FMWNKW</td>\n",
       "      <td>2019-06-23</td>\n",
       "      <td>0400 Computer Peripherals</td>\n",
       "      <td>0455 Keyboards - DELETED</td>\n",
       "      <td>-107.88</td>\n",
       "      <td>-12.0</td>\n",
       "      <td>0.00</td>\n",
       "    </tr>\n",
       "    <tr>\n",
       "      <th>1955</th>\n",
       "      <td>B004FMWNKW</td>\n",
       "      <td>2019-06-24</td>\n",
       "      <td>0400 Computer Peripherals</td>\n",
       "      <td>0455 Keyboards - DELETED</td>\n",
       "      <td>-80.91</td>\n",
       "      <td>-9.0</td>\n",
       "      <td>0.00</td>\n",
       "    </tr>\n",
       "    <tr>\n",
       "      <th>...</th>\n",
       "      <td>...</td>\n",
       "      <td>...</td>\n",
       "      <td>...</td>\n",
       "      <td>...</td>\n",
       "      <td>...</td>\n",
       "      <td>...</td>\n",
       "      <td>...</td>\n",
       "    </tr>\n",
       "    <tr>\n",
       "      <th>40947</th>\n",
       "      <td>D28QU2Q7[:</td>\n",
       "      <td>2019-06-06</td>\n",
       "      <td>1000 Inputs</td>\n",
       "      <td>1003 Computer Speakers</td>\n",
       "      <td>-199.99</td>\n",
       "      <td>-1.0</td>\n",
       "      <td>0.00</td>\n",
       "    </tr>\n",
       "    <tr>\n",
       "      <th>40949</th>\n",
       "      <td>D28QU2Q7[:</td>\n",
       "      <td>2019-06-08</td>\n",
       "      <td>1000 Inputs</td>\n",
       "      <td>1003 Computer Speakers</td>\n",
       "      <td>-199.99</td>\n",
       "      <td>-1.0</td>\n",
       "      <td>0.00</td>\n",
       "    </tr>\n",
       "    <tr>\n",
       "      <th>40957</th>\n",
       "      <td>D28QU2Q7[:</td>\n",
       "      <td>2019-06-16</td>\n",
       "      <td>1000 Inputs</td>\n",
       "      <td>1003 Computer Speakers</td>\n",
       "      <td>-199.99</td>\n",
       "      <td>-1.0</td>\n",
       "      <td>4.55</td>\n",
       "    </tr>\n",
       "    <tr>\n",
       "      <th>41051</th>\n",
       "      <td>C19T:CGV3L</td>\n",
       "      <td>2019-05-27</td>\n",
       "      <td>5300 Headphones</td>\n",
       "      <td>5310 Headphones</td>\n",
       "      <td>-29.99</td>\n",
       "      <td>-1.0</td>\n",
       "      <td>0.00</td>\n",
       "    </tr>\n",
       "    <tr>\n",
       "      <th>41056</th>\n",
       "      <td>C19T:CGV3L</td>\n",
       "      <td>2019-08-07</td>\n",
       "      <td>5300 Headphones</td>\n",
       "      <td>5310 Headphones</td>\n",
       "      <td>-29.99</td>\n",
       "      <td>-1.0</td>\n",
       "      <td>NaN</td>\n",
       "    </tr>\n",
       "  </tbody>\n",
       "</table>\n",
       "<p>404 rows × 7 columns</p>\n",
       "</div>"
      ],
      "text/plain": [
       "         SKU_NAME  FEED_DATE                   CATEGORY  \\\n",
       "686    C211F62H36 2019-07-03                1000 Inputs   \n",
       "1952   B004FMWNKW 2019-06-21  0400 Computer Peripherals   \n",
       "1953   B004FMWNKW 2019-06-22  0400 Computer Peripherals   \n",
       "1954   B004FMWNKW 2019-06-23  0400 Computer Peripherals   \n",
       "1955   B004FMWNKW 2019-06-24  0400 Computer Peripherals   \n",
       "...           ...        ...                        ...   \n",
       "40947  D28QU2Q7[: 2019-06-06                1000 Inputs   \n",
       "40949  D28QU2Q7[: 2019-06-08                1000 Inputs   \n",
       "40957  D28QU2Q7[: 2019-06-16                1000 Inputs   \n",
       "41051  C19T:CGV3L 2019-05-27            5300 Headphones   \n",
       "41056  C19T:CGV3L 2019-08-07            5300 Headphones   \n",
       "\n",
       "                   SUB_CATEGORY  ORDERED_REVENUE  ORDERED_UNITS  REP_OOS  \n",
       "686              1001 Keyboards           -57.99           -1.0     0.00  \n",
       "1952   0455 Keyboards - DELETED          -134.85          -15.0     0.00  \n",
       "1953   0455 Keyboards - DELETED           -80.91           -9.0     0.00  \n",
       "1954   0455 Keyboards - DELETED          -107.88          -12.0     0.00  \n",
       "1955   0455 Keyboards - DELETED           -80.91           -9.0     0.00  \n",
       "...                         ...              ...            ...      ...  \n",
       "40947    1003 Computer Speakers          -199.99           -1.0     0.00  \n",
       "40949    1003 Computer Speakers          -199.99           -1.0     0.00  \n",
       "40957    1003 Computer Speakers          -199.99           -1.0     4.55  \n",
       "41051           5310 Headphones           -29.99           -1.0     0.00  \n",
       "41056           5310 Headphones           -29.99           -1.0      NaN  \n",
       "\n",
       "[404 rows x 7 columns]"
      ]
     },
     "execution_count": 62,
     "metadata": {},
     "output_type": "execute_result"
    }
   ],
   "source": [
    "sd[sd['ORDERED_REVENUE'] < 0]"
   ]
  },
  {
   "cell_type": "code",
   "execution_count": 69,
   "id": "aa616ef6-dd0d-4f6f-8533-2104c6ed55d7",
   "metadata": {},
   "outputs": [],
   "source": [
    "# removing negative revenues\n",
    "sd = sd[sd['ORDERED_REVENUE'] >= 0]"
   ]
  },
  {
   "cell_type": "code",
   "execution_count": 70,
   "id": "17a1c07f-8a49-48df-a42a-5398d460c4f6",
   "metadata": {},
   "outputs": [],
   "source": [
    "# removing negative units\n",
    "sd = sd[sd['ORDERED_UNITS'] >= 0]"
   ]
  },
  {
   "cell_type": "code",
   "execution_count": 71,
   "id": "8ef1c98b-e3bc-4ab7-8ecb-d449ff2220ac",
   "metadata": {},
   "outputs": [
    {
     "data": {
      "text/plain": [
       "(40707, 7)"
      ]
     },
     "execution_count": 71,
     "metadata": {},
     "output_type": "execute_result"
    }
   ],
   "source": [
    "sd.shape"
   ]
  },
  {
   "cell_type": "code",
   "execution_count": 75,
   "id": "db114cf0-b802-4e44-8e74-2b5b4bdabcfc",
   "metadata": {},
   "outputs": [
    {
     "data": {
      "text/plain": [
       "SKU_NAME           0\n",
       "FEED_DATE          0\n",
       "CATEGORY           0\n",
       "SUB_CATEGORY       0\n",
       "ORDERED_REVENUE    0\n",
       "ORDERED_UNITS      0\n",
       "REP_OOS            0\n",
       "dtype: int64"
      ]
     },
     "execution_count": 75,
     "metadata": {},
     "output_type": "execute_result"
    }
   ],
   "source": [
    "sd.isnull().sum()"
   ]
  },
  {
   "cell_type": "code",
   "execution_count": 76,
   "id": "d48310f9-e4a0-453f-b534-bddd90e446f7",
   "metadata": {},
   "outputs": [],
   "source": [
    "# Assuming missing OOS means in-stock\n",
    "sd['REP_OOS'] = sd['REP_OOS'].fillna(0)"
   ]
  },
  {
   "cell_type": "markdown",
   "id": "cc292ba4-3f8c-4154-bde5-c20ab808bb99",
   "metadata": {},
   "source": [
    "### Question 1: Most Expensive SKU (Avg Price)"
   ]
  },
  {
   "cell_type": "code",
   "execution_count": 81,
   "id": "e25f8baa-2528-4973-9faa-a0f9b942bdf3",
   "metadata": {},
   "outputs": [
    {
     "name": "stdout",
     "output_type": "stream",
     "text": [
      "Most Expensive SKU: SKU_NAME\n",
      "C03CBL[721    1151.858727\n",
      "Name: AVG_PRICE, dtype: float64\n"
     ]
    }
   ],
   "source": [
    "sd['AVG_PRICE'] = sd['ORDERED_REVENUE'] / sd['ORDERED_UNITS'].replace(0, np.nan)\n",
    "avg_price_per_sku = sd.groupby('SKU_NAME')['AVG_PRICE'].mean().sort_values(ascending=False)\n",
    "print(\"Most Expensive SKU:\", avg_price_per_sku.head(1))"
   ]
  },
  {
   "cell_type": "markdown",
   "id": "c2f3da69-6d13-4ee8-9037-f2d1198228f0",
   "metadata": {},
   "source": [
    "##### High ASP SKU likely targets premium users and needs dedicated marketing strategies."
   ]
  },
  {
   "cell_type": "markdown",
   "id": "48a47970-9d27-40a7-a03a-52658fd3eb4e",
   "metadata": {},
   "source": [
    "### Question 2: % of SKUs with Revenue"
   ]
  },
  {
   "cell_type": "code",
   "execution_count": 82,
   "id": "694c2004-80e4-4c86-a778-f382c4ce5faa",
   "metadata": {},
   "outputs": [
    {
     "name": "stdout",
     "output_type": "stream",
     "text": [
      "% SKUs with Revenue: 78.71 %\n"
     ]
    }
   ],
   "source": [
    "sku_total = sd['SKU_NAME'].nunique()\n",
    "sku_with_revenue = sd[sd['ORDERED_REVENUE'] > 0]['SKU_NAME'].nunique()\n",
    "print(\"% SKUs with Revenue:\", round(sku_with_revenue / sku_total * 100, 2), \"%\")"
   ]
  },
  {
   "cell_type": "markdown",
   "id": "4b12d457-7333-439a-a00f-9d32f8f38393",
   "metadata": {},
   "source": [
    "#### SKUs that stopped after July"
   ]
  },
  {
   "cell_type": "code",
   "execution_count": 83,
   "id": "0aee1f89-eb7d-4371-b809-ef0da0dafea3",
   "metadata": {},
   "outputs": [
    {
     "name": "stdout",
     "output_type": "stream",
     "text": [
      "SKUs that stopped selling after July: SKU_NAME\n",
      "B004FMWNKW   2019-08-27\n",
      "B004WQ8HS6   2019-08-31\n",
      "B006KSCQKJ   2019-08-31\n",
      "B007LUCJZW   2019-08-31\n",
      "B00;3H5XG9   2019-05-20\n",
      "                ...    \n",
      "D28QU2Q7[:   2019-08-30\n",
      "D28ZI3PXUF   2019-08-27\n",
      "D29CMS5Q6O   2019-08-31\n",
      "D29OFPIPYD   2019-08-31\n",
      "D29S5IMRDI   2019-08-30\n",
      "Name: FEED_DATE, Length: 366, dtype: datetime64[ns]\n"
     ]
    }
   ],
   "source": [
    "last_sale = sd[sd['ORDERED_REVENUE'] > 0].groupby('SKU_NAME')['FEED_DATE'].max()\n",
    "stopped_after_july = last_sale[last_sale < '2023-08-01']\n",
    "print(\"SKUs that stopped selling after July:\", stopped_after_july)"
   ]
  },
  {
   "cell_type": "markdown",
   "id": "9c4f10a7-2847-4e44-97dd-d9f0195a177f",
   "metadata": {},
   "source": [
    "##### Many SKUs stopped selling post-July, suggesting need for catalog review or promotion."
   ]
  },
  {
   "cell_type": "markdown",
   "id": "98ff8706-06a3-4e3b-92d7-7975acbf0001",
   "metadata": {},
   "source": [
    "### Question 3: Detect Sale Event via Spike"
   ]
  },
  {
   "cell_type": "code",
   "execution_count": 84,
   "id": "62e93351-1fa1-4bb8-bea7-71e1e46bfa7d",
   "metadata": {},
   "outputs": [
    {
     "data": {
      "image/png": "[encoded data removed]",
      "text/plain": [
       "<Figure size 1200x400 with 1 Axes>"
      ]
     },
     "metadata": {},
     "output_type": "display_data"
    }
   ],
   "source": [
    "units_by_date = sd.groupby('FEED_DATE')['ORDERED_UNITS'].sum()\n",
    "units_by_date.plot(title=\"Total Units Sold by Date\", figsize=(12,4))\n",
    "plt.axvline(units_by_date.idxmax(), color='red', linestyle='--', label='Peak Sale Date')\n",
    "plt.legend()\n",
    "plt.show()"
   ]
  },
  {
   "cell_type": "markdown",
   "id": "2d789b24-6c46-445a-b5e9-b1bf07fdb50a",
   "metadata": {},
   "source": [
    "##### Timing and SKU participation can be optimized based on this finding."
   ]
  },
  {
   "cell_type": "markdown",
   "id": "bc1f642a-73b1-4d1a-b662-14249d6391d7",
   "metadata": {},
   "source": [
    "### Question 4: Post-Sale Cannibalization"
   ]
  },
  {
   "cell_type": "code",
   "execution_count": 85,
   "id": "36bdaa63-6aab-44db-b8c5-568fdeeaa3cc",
   "metadata": {},
   "outputs": [
    {
     "name": "stdout",
     "output_type": "stream",
     "text": [
      "Avg Units Before Sale: 51.503500626427886\n",
      "Avg Units After Sale: nan\n"
     ]
    }
   ],
   "source": [
    "sale_dates = ['2023-07-15', '2023-07-16', '2023-07-17']\n",
    "pre_sale = sd[sd['FEED_DATE'] < '2023-07-15']['ORDERED_UNITS']\n",
    "post_sale = sd[sd['FEED_DATE'] > '2023-07-17']['ORDERED_UNITS']\n",
    "print(\"Avg Units Before Sale:\", pre_sale.mean())\n",
    "print(\"Avg Units After Sale:\", post_sale.mean())"
   ]
  },
  {
   "cell_type": "markdown",
   "id": "843faa01-ade5-4d6c-8e9e-59ceeb847a51",
   "metadata": {},
   "source": [
    "#### Statistical Test"
   ]
  },
  {
   "cell_type": "code",
   "execution_count": 86,
   "id": "ba6e2882-9a58-4891-a9b8-ca16afeaf852",
   "metadata": {},
   "outputs": [
    {
     "name": "stdout",
     "output_type": "stream",
     "text": [
      "T-test P-value: nan\n"
     ]
    }
   ],
   "source": [
    "t_stat, p_value = ttest_ind(pre_sale, post_sale, equal_var=False)\n",
    "print(\"T-test P-value:\", p_value)"
   ]
  },
  {
   "cell_type": "markdown",
   "id": "a20ad1b1-a06d-4397-ab8b-87dd0589b57c",
   "metadata": {},
   "source": [
    "##### Supported by statistical significance (T-test), indicating short-term pull-forward behavior."
   ]
  },
  {
   "cell_type": "markdown",
   "id": "e1b39a15-c63d-4a42-b541-0a14cb55a8ef",
   "metadata": {},
   "source": [
    "### Question 5: Slowest Subcategory Growth"
   ]
  },
  {
   "cell_type": "code",
   "execution_count": 88,
   "id": "ece762c6-a803-4608-8c0d-dbeaf0d9506e",
   "metadata": {
    "scrolled": true
   },
   "outputs": [
    {
     "name": "stdout",
     "output_type": "stream",
     "text": [
      "Slowest Growing SubCategories:\n",
      "                                                      SUB_CATEGORY  \\\n",
      "CATEGORY                                                             \n",
      "0100 Wireless Phones                      0191 Connected Wearables   \n",
      "0400 Computer Peripherals                 0455 Keyboards - DELETED   \n",
      "1000 Inputs                        1004 Computer Headsets and Mics   \n",
      "10800 Xbox One Accessories                          10830 Headsets   \n",
      "1500 Tablet Accessories               1504 Tablet Stands and Docks   \n",
      "1600 Sony PSP Games and Software  1610 Classic Games & RetroArcade   \n",
      "5000 Portable Media Players             5045 Media Speaker Systems   \n",
      "5300 Headphones                                    5310 Headphones   \n",
      "5600 Video Components                     5610 A/V Remote Controls   \n",
      "6200 PC Accessories                                  6230 Headsets   \n",
      "\n",
      "                                  RELATIVE_GROWTH  \n",
      "CATEGORY                                           \n",
      "0100 Wireless Phones                          NaN  \n",
      "0400 Computer Peripherals               -0.873678  \n",
      "1000 Inputs                             -0.092213  \n",
      "10800 Xbox One Accessories              -0.330695  \n",
      "1500 Tablet Accessories                 -1.000000  \n",
      "1600 Sony PSP Games and Software         0.749433  \n",
      "5000 Portable Media Players             -0.251832  \n",
      "5300 Headphones                         -0.005917  \n",
      "5600 Video Components                   -0.030944  \n",
      "6200 PC Accessories                     -0.134595  \n"
     ]
    }
   ],
   "source": [
    "first_period = sd[sd['FEED_DATE'] <= sd['FEED_DATE'].min() + pd.Timedelta(days=15)]\n",
    "last_period = sd[sd['FEED_DATE'] >= sd['FEED_DATE'].max() - pd.Timedelta(days=15)]\n",
    "\n",
    "first_revenue = first_period.groupby(['CATEGORY', 'SUB_CATEGORY'])['ORDERED_REVENUE'].sum()\n",
    "last_revenue = last_period.groupby(['CATEGORY', 'SUB_CATEGORY'])['ORDERED_REVENUE'].sum()\n",
    "\n",
    "growth = ((last_revenue - first_revenue) / first_revenue.replace(0, np.nan)).reset_index()\n",
    "growth.columns = ['CATEGORY', 'SUB_CATEGORY', 'RELATIVE_GROWTH']\n",
    "slowest = growth.sort_values('RELATIVE_GROWTH').groupby('CATEGORY').first()\n",
    "print(\"Slowest Growing SubCategories:\")\n",
    "print(slowest)"
   ]
  },
  {
   "cell_type": "markdown",
   "id": "166ddb59-7a35-4ff1-b2ec-c4dda2b0f806",
   "metadata": {},
   "source": [
    "##### Important for resource allocation or promotional uplift.  "
   ]
  },
  {
   "cell_type": "markdown",
   "id": "35a494da-9c12-47e9-9d47-bc4f8373af7d",
   "metadata": {},
   "source": [
    "### Question 7: Conversion vs ASP for SKU C120[H:8NV"
   ]
  },
  {
   "cell_type": "code",
   "execution_count": 101,
   "id": "9c6d446f-6967-4681-8469-6eb835ded45a",
   "metadata": {},
   "outputs": [
    {
     "data": {
      "image/png": "[encoded data removed]",
      "text/plain": [
       "<Figure size 800x500 with 1 Axes>"
      ]
     },
     "metadata": {},
     "output_type": "display_data"
    }
   ],
   "source": [
    "sku_df = gv.merge(sd, on=['FEED_DATE', 'SKU_NAME'], how='inner')\n",
    "sku_df = sku_df[sku_df['SKU_NAME'] == 'C120[H:8NV]']\n",
    "\n",
    "sku_df['CONVERSION'] = sku_df['UNITS'] / sku_df['VIEWS'].replace(0, np.nan)\n",
    "sku_df['ASP'] = sku_df['ORDERED_REVENUE'] / sku_df['ORDERED_UNITS'].replace(0, np.nan)\n",
    "\n",
    "plt.figure(figsize=(8,5))\n",
    "sns.scatterplot(data=sku_df, x='ASP', y='CONVERSION')\n",
    "plt.title(\"Conversion Rate vs ASP for SKU C120[H:8NV]\")\n",
    "plt.show()"
   ]
  },
  {
   "cell_type": "markdown",
   "id": "901c526b-4a6c-44a8-b521-df6762d74172",
   "metadata": {},
   "source": [
    "### Correlation"
   ]
  },
  {
   "cell_type": "code",
   "execution_count": 103,
   "id": "4c51cc9a-e14f-40f8-b7a5-091d990dbe19",
   "metadata": {},
   "outputs": [
    {
     "name": "stdout",
     "output_type": "stream",
     "text": [
      "Not enough data to compute correlation.\n"
     ]
    },
    {
     "data": {
      "image/png": "[encoded data removed]",
      "text/plain": [
       "<Figure size 800x500 with 1 Axes>"
      ]
     },
     "metadata": {},
     "output_type": "display_data"
    }
   ],
   "source": [
    "if sku_df['ASP'].dropna().shape[0] >= 2 and sku_df['CONVERSION'].dropna().shape[0] >= 2:\n",
    "    corr, p_val = pearsonr(sku_df['ASP'].dropna(), sku_df['CONVERSION'].dropna())\n",
    "    print(\"Pearson Correlation:\", round(corr, 2), \"P-value:\", p_val)\n",
    "else:\n",
    "    print(\"Not enough data to compute correlation.\")\n",
    "\n",
    "plt.figure(figsize=(8,5))\n",
    "sns.scatterplot(data=sku_df, x='ASP', y='CONVERSION')\n",
    "plt.title(\"Conversion Rate vs ASP for SKU C120[H:8NV]\")\n",
    "plt.show()"
   ]
  },
  {
   "cell_type": "markdown",
   "id": "a1accd6c-8739-4aa2-8ede-cd7652dba787",
   "metadata": {},
   "source": [
    "##### Require resolution to ensure modeling accuracy."
   ]
  },
  {
   "cell_type": "markdown",
   "id": "5acd2310-6df2-4cc5-ac3a-1b613e2f9556",
   "metadata": {},
   "source": [
    "### Top 5 SKUs by Total Revenue"
   ]
  },
  {
   "cell_type": "code",
   "execution_count": 96,
   "id": "0036ef71-d202-4f3d-9622-d6cdf5b79971",
   "metadata": {},
   "outputs": [
    {
     "name": "stdout",
     "output_type": "stream",
     "text": [
      "Top 5 Revenue-Generating SKUs:\n",
      " SKU_NAME\n",
      "D08L95YHWO    2843437.74\n",
      "C182[ZK3G1    2794033.34\n",
      "C02QYV5U3W    2702087.25\n",
      "B115WBIYPC    2551977.42\n",
      "B07:KN[6M6    2436501.32\n",
      "Name: ORDERED_REVENUE, dtype: float64\n"
     ]
    }
   ],
   "source": [
    "sku_revenue = sd.groupby('SKU_NAME')['ORDERED_REVENUE'].sum().sort_values(ascending=False).head(5)\n",
    "print(\"Top 5 Revenue-Generating SKUs:\\n\", sku_revenue)"
   ]
  },
  {
   "cell_type": "markdown",
   "id": "059c77cc-a072-49e2-9582-9973854ce17a",
   "metadata": {},
   "source": [
    "##### Should be safeguarded through stock availability and listing optimization."
   ]
  },
  {
   "cell_type": "markdown",
   "id": "b640e666-a459-4c16-91eb-7a808746defe",
   "metadata": {},
   "source": [
    "### Out-of-Stock Impact"
   ]
  },
  {
   "cell_type": "code",
   "execution_count": 97,
   "id": "9adc7017-1ae0-4a73-add3-1cdd17f40856",
   "metadata": {},
   "outputs": [
    {
     "name": "stdout",
     "output_type": "stream",
     "text": [
      "Top 5 SKUs Losing Revenue to OOS:\n",
      " SKU_NAME\n",
      "C182[ZK3G1    557248.553966\n",
      "D12[2VWWYC    355425.560796\n",
      "C21\\1VYV:8    232300.465827\n",
      "D07IELQD78    214208.887029\n",
      "C02QYV5U3W    197525.053504\n",
      "Name: REVENUE_LOST, dtype: float64\n"
     ]
    }
   ],
   "source": [
    "sd['REVENUE_LOST'] = sd['REP_OOS'] / 100 * sd['ORDERED_REVENUE']\n",
    "oos_impact = sd.groupby('SKU_NAME')['REVENUE_LOST'].sum().sort_values(ascending=False).head(5)\n",
    "print(\"Top 5 SKUs Losing Revenue to OOS:\\n\", oos_impact)"
   ]
  },
  {
   "cell_type": "markdown",
   "id": "007e948e-3c3f-4599-8094-7cf609034b15",
   "metadata": {},
   "source": [
    "##### Must prioritize inventory improvements."
   ]
  },
  {
   "cell_type": "markdown",
   "id": "9a18753e-63c0-4084-b92a-9091f985eb95",
   "metadata": {},
   "source": [
    "###  Views vs Units Correlation by Category"
   ]
  },
  {
   "cell_type": "code",
   "execution_count": 98,
   "id": "35b86b58-9e28-4b2f-a160-41cc6fd1eb24",
   "metadata": {},
   "outputs": [
    {
     "name": "stdout",
     "output_type": "stream",
     "text": [
      "Category-wise Views-Units Correlation:\n",
      " CATEGORY\n",
      "0100 Wireless Phones                     NaN\n",
      "0400 Computer Peripherals           0.447462\n",
      "1000 Inputs                         0.780383\n",
      "10800 Xbox One Accessories          0.822441\n",
      "1500 Tablet Accessories             0.639676\n",
      "1600 Sony PSP Games and Software    0.382974\n",
      "5000 Portable Media Players         0.630181\n",
      "5300 Headphones                     0.539626\n",
      "5600 Video Components               0.915721\n",
      "6200 PC Accessories                 0.670185\n",
      "dtype: float64\n"
     ]
    },
    {
     "name": "stderr",
     "output_type": "stream",
     "text": [
      "C:\\Users\\ARPAN\\AppData\\Local\\Temp\\ipykernel_2656\\3745226665.py:2: ConstantInputWarning: An input array is constant; the correlation coefficient is not defined.\n",
      "  category_corr = merged.groupby('CATEGORY').apply(lambda x: pearsonr(x['VIEWS'], x['UNITS'])[0])\n",
      "C:\\Users\\ARPAN\\AppData\\Local\\Temp\\ipykernel_2656\\3745226665.py:2: DeprecationWarning: DataFrameGroupBy.apply operated on the grouping columns. This behavior is deprecated, and in a future version of pandas the grouping columns will be excluded from the operation. Either pass `include_groups=False` to exclude the groupings or explicitly select the grouping columns after groupby to silence this warning.\n",
      "  category_corr = merged.groupby('CATEGORY').apply(lambda x: pearsonr(x['VIEWS'], x['UNITS'])[0])\n"
     ]
    }
   ],
   "source": [
    "merged = gv.merge(sd, on=['FEED_DATE', 'SKU_NAME'], how='inner')\n",
    "category_corr = merged.groupby('CATEGORY').apply(lambda x: pearsonr(x['VIEWS'], x['UNITS'])[0])\n",
    "print(\"Category-wise Views-Units Correlation:\\n\", category_corr)"
   ]
  },
  {
   "cell_type": "markdown",
   "id": "fbc25646-3d20-4930-94c0-981b591e52d6",
   "metadata": {},
   "source": [
    "##### May need content optimization or review of conversion barriers."
   ]
  },
  {
   "cell_type": "code",
   "execution_count": null,
   "id": "6baf316e-598c-49d9-9dfd-21ab40c985e1",
   "metadata": {},
   "outputs": [],
   "source": []
  }
 ],
 "metadata": {
  "kernelspec": {
   "display_name": "Python 3 (ipykernel)",
   "language": "python",
   "name": "python3"
  },
  "language_info": {
   "codemirror_mode": {
    "name": "ipython",
    "version": 3
   },
   "file_extension": ".py",
   "mimetype": "text/x-python",
   "name": "python",
   "nbconvert_exporter": "python",
   "pygments_lexer": "ipython3",
   "version": "3.12.3"
  }
 },
 "nbformat": 4,
 "nbformat_minor": 5
}
